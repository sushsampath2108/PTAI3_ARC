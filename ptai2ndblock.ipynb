{
 "cells": [
  {
   "cell_type": "code",
   "execution_count": 5,
   "id": "a30a7047",
   "metadata": {},
   "outputs": [],
   "source": [
    "import os\n",
    "import matplotlib.pyplot as plt\n",
    "import seaborn as sns\n",
    "import numpy as np\n",
    "import json"
   ]
  },
  {
   "cell_type": "code",
   "execution_count": 6,
   "id": "c4516dbe",
   "metadata": {},
   "outputs": [],
   "source": [
    "f= 'data/training/36d67576.json'"
   ]
  },
  {
   "cell_type": "code",
   "execution_count": 7,
   "id": "63fd7ef2",
   "metadata": {},
   "outputs": [],
   "source": [
    "with open(f, 'r') as file:\n",
    "    document =  json.loads(file.read())"
   ]
  },
  {
   "cell_type": "code",
   "execution_count": 8,
   "id": "6d0c3972",
   "metadata": {},
   "outputs": [
    {
     "data": {
      "text/plain": [
       "dict_keys(['train', 'test'])"
      ]
     },
     "execution_count": 8,
     "metadata": {},
     "output_type": "execute_result"
    }
   ],
   "source": [
    "document.keys()"
   ]
  },
  {
   "cell_type": "code",
   "execution_count": 9,
   "id": "4f6ba0a4",
   "metadata": {},
   "outputs": [
    {
     "data": {
      "text/plain": [
       "3"
      ]
     },
     "execution_count": 9,
     "metadata": {},
     "output_type": "execute_result"
    }
   ],
   "source": [
    "len(document['train'])"
   ]
  },
  {
   "cell_type": "code",
   "execution_count": 10,
   "id": "13711ec5",
   "metadata": {},
   "outputs": [],
   "source": [
    "X=np.array(document['train'][0]['input'])"
   ]
  },
  {
   "cell_type": "code",
   "execution_count": 11,
   "id": "57d84333",
   "metadata": {},
   "outputs": [],
   "source": [
    "Y=np.array(document['train'][0]['output'])"
   ]
  },
  {
   "cell_type": "code",
   "execution_count": 24,
   "id": "f3dc0b0f",
   "metadata": {},
   "outputs": [
    {
     "data": {
      "text/plain": [
       "<AxesSubplot:>"
      ]
     },
     "execution_count": 24,
     "metadata": {},
     "output_type": "execute_result"
    },
    {
     "data": {
      "image/png": "[encoded data removed]",
      "text/plain": [
       "<Figure size 1296x360 with 4 Axes>"
      ]
     },
     "metadata": {
      "needs_background": "light"
     },
     "output_type": "display_data"
    }
   ],
   "source": [
    "fig = plt.figure(figsize = (18,5))\n",
    "\n",
    "fig.add_subplot(1,3,1)\n",
    "sns.heatmap(X)\n",
    "\n",
    "fig.add_subplot(1,3,2)\n",
    "sns.heatmap(Y)"
   ]
  },
  {
   "cell_type": "code",
   "execution_count": 15,
   "id": "6e1b4968",
   "metadata": {},
   "outputs": [
    {
     "data": {
      "text/plain": [
       "array([[0, 0, 0, 0, 0, 0, 0, 0, 0, 0, 0, 0, 0],\n",
       "       [0, 0, 1, 0, 1, 2, 0, 0, 0, 0, 0, 0, 0],\n",
       "       [0, 4, 4, 4, 4, 4, 0, 0, 0, 0, 4, 0, 0],\n",
       "       [0, 3, 0, 3, 0, 3, 0, 0, 0, 0, 4, 0, 0],\n",
       "       [0, 0, 0, 0, 0, 0, 0, 0, 0, 0, 4, 0, 0],\n",
       "       [0, 0, 0, 0, 0, 0, 0, 0, 0, 0, 4, 0, 0],\n",
       "       [0, 0, 0, 0, 0, 0, 0, 0, 0, 0, 4, 2, 0],\n",
       "       [0, 0, 0, 0, 0, 0, 0, 0, 0, 0, 0, 0, 0],\n",
       "       [0, 0, 0, 4, 4, 4, 4, 4, 0, 0, 0, 0, 0],\n",
       "       [0, 0, 0, 2, 0, 0, 0, 0, 0, 0, 0, 0, 0],\n",
       "       [0, 0, 0, 0, 0, 0, 0, 0, 0, 0, 0, 0, 0],\n",
       "       [0, 0, 0, 0, 0, 0, 0, 0, 0, 0, 0, 0, 0],\n",
       "       [0, 0, 0, 0, 0, 0, 0, 0, 0, 0, 0, 0, 0]])"
      ]
     },
     "execution_count": 15,
     "metadata": {},
     "output_type": "execute_result"
    }
   ],
   "source": [
    "X"
   ]
  },
  {
   "cell_type": "code",
   "execution_count": 39,
   "id": "dc5cd75e",
   "metadata": {},
   "outputs": [],
   "source": [
    "A=X\n",
    "x,y = A.shape"
   ]
  },
  {
   "cell_type": "code",
   "execution_count": 36,
   "id": "e781d4b3",
   "metadata": {},
   "outputs": [
    {
     "data": {
      "text/plain": [
       "6"
      ]
     },
     "execution_count": 36,
     "metadata": {},
     "output_type": "execute_result"
    }
   ],
   "source": [
    "int(x/2)"
   ]
  },
  {
   "cell_type": "code",
   "execution_count": 47,
   "id": "ecc54c40",
   "metadata": {},
   "outputs": [],
   "source": [
    "B=np.zeros((int(x/2)+1,int(y/2)+1))"
   ]
  },
  {
   "cell_type": "code",
   "execution_count": 48,
   "id": "051619cc",
   "metadata": {},
   "outputs": [],
   "source": [
    "for i in range(int(x/2)+1):\n",
    "    for j in range(int(y/2)+1):\n",
    "        B[i][j]=A[i][j]\n",
    "    "
   ]
  },
  {
   "cell_type": "code",
   "execution_count": 49,
   "id": "2e2899a8",
   "metadata": {},
   "outputs": [
    {
     "data": {
      "text/plain": [
       "array([[0., 0., 0., 0., 0., 0., 0.],\n",
       "       [0., 0., 1., 0., 1., 2., 0.],\n",
       "       [0., 4., 4., 4., 4., 4., 0.],\n",
       "       [0., 3., 0., 3., 0., 3., 0.],\n",
       "       [0., 0., 0., 0., 0., 0., 0.],\n",
       "       [0., 0., 0., 0., 0., 0., 0.],\n",
       "       [0., 0., 0., 0., 0., 0., 0.]])"
      ]
     },
     "execution_count": 49,
     "metadata": {},
     "output_type": "execute_result"
    }
   ],
   "source": [
    "B"
   ]
  },
  {
   "cell_type": "code",
   "execution_count": 62,
   "id": "b82f149d",
   "metadata": {},
   "outputs": [],
   "source": [
    "c=B[np.all(B == 0, axis=1)]"
   ]
  },
  {
   "cell_type": "code",
   "execution_count": 70,
   "id": "44c4123e",
   "metadata": {},
   "outputs": [],
   "source": [
    "bar = np.array ([ [1.0, 0.0, 2.0], [0.0, 0.0, 0.0], [2.0, 1.0, 0.0] ] )\n",
    "mask = B.sum(axis=1)!=0\n",
    "B=B[mask]\n",
    "\n"
   ]
  },
  {
   "cell_type": "code",
   "execution_count": 71,
   "id": "dd45de9a",
   "metadata": {},
   "outputs": [
    {
     "data": {
      "text/plain": [
       "array([[0., 0., 1., 0., 1., 2., 0.],\n",
       "       [0., 4., 4., 4., 4., 4., 0.],\n",
       "       [0., 3., 0., 3., 0., 3., 0.]])"
      ]
     },
     "execution_count": 71,
     "metadata": {},
     "output_type": "execute_result"
    }
   ],
   "source": [
    "B"
   ]
  },
  {
   "cell_type": "code",
   "execution_count": 77,
   "id": "816a20b6",
   "metadata": {},
   "outputs": [],
   "source": [
    "C=B[:,[1,2,3,4,5]]"
   ]
  },
  {
   "cell_type": "code",
   "execution_count": 78,
   "id": "e66447aa",
   "metadata": {},
   "outputs": [
    {
     "data": {
      "text/plain": [
       "array([[0., 1., 0., 1., 2.],\n",
       "       [4., 4., 4., 4., 4.],\n",
       "       [3., 0., 3., 0., 3.]])"
      ]
     },
     "execution_count": 78,
     "metadata": {},
     "output_type": "execute_result"
    }
   ],
   "source": [
    "C"
   ]
  },
  {
   "cell_type": "code",
   "execution_count": 79,
   "id": "7baf20d5",
   "metadata": {},
   "outputs": [
    {
     "data": {
      "text/plain": [
       "array([[0., 4., 3.],\n",
       "       [1., 4., 0.],\n",
       "       [0., 4., 3.],\n",
       "       [1., 4., 0.],\n",
       "       [2., 4., 3.]])"
      ]
     },
     "execution_count": 79,
     "metadata": {},
     "output_type": "execute_result"
    }
   ],
   "source": [
    "C.T"
   ]
  },
  {
   "cell_type": "code",
   "execution_count": null,
   "id": "f0b3bb9b",
   "metadata": {},
   "outputs": [],
   "source": []
  },
  {
   "cell_type": "code",
   "execution_count": null,
   "id": "964f7e41",
   "metadata": {},
   "outputs": [],
   "source": []
  },
  {
   "cell_type": "code",
   "execution_count": 72,
   "id": "38182588",
   "metadata": {},
   "outputs": [
    {
     "data": {
      "text/plain": [
       "array([False,  True,  True,  True,  True,  True, False])"
      ]
     },
     "execution_count": 72,
     "metadata": {},
     "output_type": "execute_result"
    }
   ],
   "source": [
    "for i in range(7):\n",
    "    if "
   ]
  },
  {
   "cell_type": "code",
   "execution_count": 76,
   "id": "9af1576e",
   "metadata": {},
   "outputs": [
    {
     "data": {
      "text/plain": [
       "<AxesSubplot:>"
      ]
     },
     "execution_count": 76,
     "metadata": {},
     "output_type": "execute_result"
    },
    {
     "data": {
      "image/png": "[encoded data removed]",
      "text/plain": [
       "<Figure size 1296x360 with 2 Axes>"
      ]
     },
     "metadata": {
      "needs_background": "light"
     },
     "output_type": "display_data"
    }
   ],
   "source": [
    "fig = plt.figure(figsize = (18,5))\n",
    "\n",
    "fig.add_subplot(1,3,1)\n",
    "sns.heatmap(B[:,[1,2,3,4,5]])"
   ]
  },
  {
   "cell_type": "code",
   "execution_count": 75,
   "id": "8cfe1587",
   "metadata": {},
   "outputs": [
    {
     "ename": "IndexError",
     "evalue": "too many indices for array: array is 2-dimensional, but 3 were indexed",
     "output_type": "error",
     "traceback": [
      "\u001b[1;31m---------------------------------------------------------------------------\u001b[0m",
      "\u001b[1;31mIndexError\u001b[0m                                Traceback (most recent call last)",
      "\u001b[1;32m<ipython-input-75-7551f6b389eb>\u001b[0m in \u001b[0;36m<module>\u001b[1;34m\u001b[0m\n\u001b[1;32m----> 1\u001b[1;33m \u001b[0mc\u001b[0m\u001b[1;33m=\u001b[0m\u001b[0mB\u001b[0m\u001b[1;33m[\u001b[0m\u001b[1;33m:\u001b[0m\u001b[1;33m,\u001b[0m\u001b[1;33m[\u001b[0m\u001b[0mmask1\u001b[0m\u001b[1;33m]\u001b[0m\u001b[1;33m]\u001b[0m\u001b[1;33m\u001b[0m\u001b[1;33m\u001b[0m\u001b[0m\n\u001b[0m",
      "\u001b[1;31mIndexError\u001b[0m: too many indices for array: array is 2-dimensional, but 3 were indexed"
     ]
    }
   ],
   "source": [
    "c=B[:,[mask1]]"
   ]
  },
  {
   "cell_type": "code",
   "execution_count": 60,
   "id": "fde03ce4",
   "metadata": {},
   "outputs": [
    {
     "name": "stdout",
     "output_type": "stream",
     "text": [
      "Row  0\n",
      "Row  1\n",
      "num [1.0]\n",
      "num [1.0, 1.0]\n",
      "num [1.0, 1.0, 2.0]\n",
      "Row  2\n",
      "num [4.0]\n",
      "num [4.0, 4.0]\n",
      "num [4.0, 4.0, 4.0]\n",
      "num [4.0, 4.0, 4.0, 4.0]\n",
      "num [4.0, 4.0, 4.0, 4.0, 4.0]\n",
      "Row  3\n",
      "num [3.0]\n",
      "num [3.0, 3.0]\n",
      "num [3.0, 3.0, 3.0]\n",
      "Row  4\n",
      "Row  5\n",
      "Row  6\n",
      "number [[1.0, 1.0, 2.0]]\n"
     ]
    }
   ],
   "source": [
    "num_d=[]\n",
    "size=0\n",
    "zero_row_count=0\n",
    "\n",
    "for i in range(int(x/2)+1):\n",
    "    print(\"Row \",i)\n",
    "    num=[]\n",
    "    \n",
    "    if(zero_row_count>1):\n",
    "        break\n",
    "        \n",
    "    if(np.max(B[i])!=0):\n",
    "        zero_row_count=0\n",
    "        prev=-1\n",
    "        for j in range(int(y/2)+1):\n",
    "            if(j!=0):\n",
    "                prev=B[i][j-1]\n",
    "                \n",
    "            if(B[i][j]!=0):\n",
    "                num.append(B[i][j])\n",
    "                print(\"num\",num)\n",
    "                \n",
    "            elif(B[i][j]==0 and B[i][j+1]!=0):\n",
    "                num.append(B[i][j])\n",
    "                \n",
    "            elif(prev==0 and B[i][j]==0):\n",
    "                num_d.append(num)\n",
    "               \n",
    "            \n",
    "        if(size<len(num_d)):\n",
    "            size=len(num_d)\n",
    "           \n",
    "    else:\n",
    "        zero_row_count=zero_row_count+1\n",
    "        \n",
    "print(\"number\",num_d)\n",
    "            \n",
    "                \n",
    "                \n",
    "                \n",
    "                \n",
    "        "
   ]
  },
  {
   "cell_type": "code",
   "execution_count": 58,
   "id": "a46bcc5a",
   "metadata": {},
   "outputs": [
    {
     "data": {
      "text/plain": [
       "[]"
      ]
     },
     "execution_count": 58,
     "metadata": {},
     "output_type": "execute_result"
    }
   ],
   "source": [
    "num"
   ]
  },
  {
   "cell_type": "code",
   "execution_count": 16,
   "id": "fce7b2ea",
   "metadata": {},
   "outputs": [
    {
     "data": {
      "text/plain": [
       "array([[0, 0, 0, 0, 0, 0, 0, 0, 0, 0, 0, 0, 0],\n",
       "       [0, 0, 1, 0, 1, 2, 0, 0, 0, 0, 0, 0, 0],\n",
       "       [0, 4, 4, 4, 4, 4, 0, 0, 0, 3, 4, 0, 0],\n",
       "       [0, 3, 0, 3, 0, 3, 0, 0, 0, 0, 4, 1, 0],\n",
       "       [0, 0, 0, 0, 0, 0, 0, 0, 0, 3, 4, 0, 0],\n",
       "       [0, 0, 0, 0, 0, 0, 0, 0, 0, 0, 4, 1, 0],\n",
       "       [0, 0, 0, 0, 0, 0, 0, 0, 0, 3, 4, 2, 0],\n",
       "       [0, 0, 0, 3, 0, 3, 0, 3, 0, 0, 0, 0, 0],\n",
       "       [0, 0, 0, 4, 4, 4, 4, 4, 0, 0, 0, 0, 0],\n",
       "       [0, 0, 0, 2, 1, 0, 1, 0, 0, 0, 0, 0, 0],\n",
       "       [0, 0, 0, 0, 0, 0, 0, 0, 0, 0, 0, 0, 0],\n",
       "       [0, 0, 0, 0, 0, 0, 0, 0, 0, 0, 0, 0, 0],\n",
       "       [0, 0, 0, 0, 0, 0, 0, 0, 0, 0, 0, 0, 0]])"
      ]
     },
     "execution_count": 16,
     "metadata": {},
     "output_type": "execute_result"
    }
   ],
   "source": [
    "Y"
   ]
  },
  {
   "cell_type": "code",
   "execution_count": 12,
   "id": "e3472520",
   "metadata": {},
   "outputs": [],
   "source": [
    "A=np.array(document['test'][0]['input'])\n"
   ]
  },
  {
   "cell_type": "code",
   "execution_count": 13,
   "id": "6e1f60f0",
   "metadata": {},
   "outputs": [
    {
     "data": {
      "text/plain": [
       "array([[0, 0, 0, 0, 0, 0, 0, 0, 0, 0, 0, 0, 0, 0, 0],\n",
       "       [0, 0, 0, 0, 0, 0, 0, 0, 0, 0, 0, 0, 0, 0, 0],\n",
       "       [0, 0, 1, 3, 0, 0, 0, 0, 0, 0, 0, 0, 0, 0, 0],\n",
       "       [0, 0, 4, 4, 2, 0, 0, 0, 0, 0, 0, 4, 4, 0, 0],\n",
       "       [0, 0, 4, 0, 4, 3, 0, 0, 0, 0, 4, 0, 4, 0, 0],\n",
       "       [0, 0, 0, 4, 4, 1, 0, 0, 0, 0, 4, 4, 2, 0, 0],\n",
       "       [0, 0, 0, 0, 0, 0, 0, 0, 0, 0, 0, 0, 0, 0, 0],\n",
       "       [0, 0, 0, 0, 0, 0, 0, 0, 0, 0, 0, 0, 0, 0, 0],\n",
       "       [0, 0, 0, 0, 0, 0, 0, 0, 0, 0, 0, 0, 0, 0, 0],\n",
       "       [0, 4, 4, 0, 0, 0, 0, 0, 2, 4, 4, 0, 0, 0, 0],\n",
       "       [0, 4, 0, 4, 0, 0, 0, 0, 4, 0, 4, 0, 0, 0, 0],\n",
       "       [0, 2, 4, 4, 0, 0, 0, 0, 4, 4, 0, 0, 0, 0, 0],\n",
       "       [0, 0, 0, 0, 0, 0, 0, 0, 0, 0, 0, 0, 0, 0, 0],\n",
       "       [0, 0, 0, 0, 0, 0, 0, 0, 0, 0, 0, 0, 0, 0, 0]])"
      ]
     },
     "execution_count": 13,
     "metadata": {},
     "output_type": "execute_result"
    }
   ],
   "source": [
    "A"
   ]
  },
  {
   "cell_type": "code",
   "execution_count": 14,
   "id": "b7c30ec2",
   "metadata": {},
   "outputs": [
    {
     "data": {
      "text/plain": [
       "array([[0, 0, 0, 0, 0, 0, 0, 0, 0, 0, 0, 0, 0, 0, 0],\n",
       "       [0, 0, 0, 0, 0, 0, 0, 0, 0, 0, 0, 0, 0, 0, 0],\n",
       "       [0, 0, 1, 3, 0, 0, 0, 0, 0, 0, 0, 0, 0, 0, 0],\n",
       "       [0, 0, 4, 4, 2, 0, 0, 0, 0, 0, 0, 4, 4, 1, 0],\n",
       "       [0, 0, 4, 0, 4, 3, 0, 0, 0, 0, 4, 0, 4, 3, 0],\n",
       "       [0, 0, 0, 4, 4, 1, 0, 0, 0, 0, 4, 4, 2, 0, 0],\n",
       "       [0, 0, 0, 0, 0, 0, 0, 0, 0, 0, 1, 3, 0, 0, 0],\n",
       "       [0, 0, 0, 0, 0, 0, 0, 0, 0, 0, 0, 0, 0, 0, 0],\n",
       "       [0, 0, 0, 0, 0, 0, 0, 0, 0, 3, 1, 0, 0, 0, 0],\n",
       "       [1, 4, 4, 0, 0, 0, 0, 0, 2, 4, 4, 0, 0, 0, 0],\n",
       "       [3, 4, 0, 4, 0, 0, 0, 3, 4, 0, 4, 0, 0, 0, 0],\n",
       "       [0, 2, 4, 4, 0, 0, 0, 1, 4, 4, 0, 0, 0, 0, 0],\n",
       "       [0, 0, 3, 1, 0, 0, 0, 0, 0, 0, 0, 0, 0, 0, 0],\n",
       "       [0, 0, 0, 0, 0, 0, 0, 0, 0, 0, 0, 0, 0, 0, 0]])"
      ]
     },
     "execution_count": 14,
     "metadata": {},
     "output_type": "execute_result"
    }
   ],
   "source": [
    "np.array(document['test'][0]['output'])"
   ]
  },
  {
   "cell_type": "code",
   "execution_count": 68,
   "id": "eff2f155",
   "metadata": {},
   "outputs": [],
   "source": [
    "x,y = A.shape\n"
   ]
  },
  {
   "cell_type": "code",
   "execution_count": 123,
   "id": "d5f37499",
   "metadata": {},
   "outputs": [
    {
     "data": {
      "text/plain": [
       "array([[0, 0, 0, 0, 0, 0, 0, 0, 0, 0, 0, 0, 0, 0, 0, 0, 0, 0, 0, 0],\n",
       "       [0, 0, 5, 5, 5, 5, 5, 5, 5, 0, 0, 0, 0, 0, 0, 0, 0, 0, 0, 0],\n",
       "       [0, 0, 5, 0, 5, 0, 5, 0, 5, 0, 0, 0, 0, 0, 0, 0, 0, 0, 0, 0],\n",
       "       [0, 0, 5, 5, 5, 5, 5, 5, 5, 0, 0, 0, 0, 0, 0, 0, 0, 0, 0, 0],\n",
       "       [0, 0, 0, 0, 0, 0, 0, 0, 0, 0, 0, 0, 0, 0, 0, 0, 0, 0, 0, 0],\n",
       "       [0, 4, 4, 4, 4, 4, 4, 4, 4, 4, 4, 4, 4, 4, 0, 0, 0, 0, 0, 0],\n",
       "       [0, 4, 0, 4, 0, 4, 0, 4, 0, 4, 0, 4, 0, 4, 0, 0, 0, 0, 0, 0],\n",
       "       [0, 4, 4, 4, 4, 4, 4, 4, 4, 4, 4, 4, 4, 4, 0, 0, 0, 0, 0, 0],\n",
       "       [0, 0, 0, 0, 0, 0, 0, 0, 0, 0, 0, 0, 0, 0, 0, 8, 8, 8, 8, 8],\n",
       "       [0, 0, 0, 0, 0, 0, 0, 0, 0, 0, 0, 0, 0, 0, 0, 8, 0, 8, 0, 8],\n",
       "       [0, 0, 0, 0, 0, 0, 0, 0, 0, 0, 0, 0, 0, 0, 0, 8, 8, 8, 8, 8]])"
      ]
     },
     "execution_count": 123,
     "metadata": {},
     "output_type": "execute_result"
    }
   ],
   "source": [
    "A"
   ]
  },
  {
   "cell_type": "code",
   "execution_count": 23,
   "id": "105b2f81",
   "metadata": {},
   "outputs": [
    {
     "data": {
      "text/plain": [
       "<AxesSubplot:>"
      ]
     },
     "execution_count": 23,
     "metadata": {},
     "output_type": "execute_result"
    },
    {
     "data": {
      "image/png": "[encoded data removed]",
      "text/plain": [
       "<Figure size 1296x360 with 2 Axes>"
      ]
     },
     "metadata": {
      "needs_background": "light"
     },
     "output_type": "display_data"
    }
   ],
   "source": [
    "fig = plt.figure(figsize = (18,5))\n",
    "\n",
    "fig.add_subplot(1,3,1)\n",
    "sns.heatmap(A)"
   ]
  },
  {
   "cell_type": "code",
   "execution_count": null,
   "id": "f1b664d1",
   "metadata": {},
   "outputs": [],
   "source": []
  },
  {
   "cell_type": "code",
   "execution_count": null,
   "id": "eaa53f89",
   "metadata": {},
   "outputs": [],
   "source": []
  },
  {
   "cell_type": "code",
   "execution_count": 42,
   "id": "ca830f90",
   "metadata": {},
   "outputs": [
    {
     "data": {
      "text/plain": [
       "<AxesSubplot:>"
      ]
     },
     "execution_count": 42,
     "metadata": {},
     "output_type": "execute_result"
    },
    {
     "data": {
      "image/png": "[encoded data removed]",
      "text/plain": [
       "<Figure size 1296x360 with 2 Axes>"
      ]
     },
     "metadata": {
      "needs_background": "light"
     },
     "output_type": "display_data"
    }
   ],
   "source": [
    "fig = plt.figure(figsize = (18,5))\n",
    "\n",
    "fig.add_subplot(1,3,1)\n",
    "sns.heatmap(document['test'][0]['input'])"
   ]
  },
  {
   "cell_type": "code",
   "execution_count": 19,
   "id": "d59177a0",
   "metadata": {},
   "outputs": [
    {
     "data": {
      "text/plain": [
       "<AxesSubplot:>"
      ]
     },
     "execution_count": 19,
     "metadata": {},
     "output_type": "execute_result"
    },
    {
     "data": {
      "image/png": "[encoded data removed]",
      "text/plain": [
       "<Figure size 1296x360 with 4 Axes>"
      ]
     },
     "metadata": {
      "needs_background": "light"
     },
     "output_type": "display_data"
    }
   ],
   "source": [
    "fig = plt.figure(figsize = (18,5))\n",
    "\n",
    "fig.add_subplot(1,3,1)\n",
    "sns.heatmap(document['train'][2]['input'])\n",
    "\n",
    "fig.add_subplot(1,3,2)\n",
    "sns.heatmap(document['train'][2]['output'])"
   ]
  },
  {
   "cell_type": "code",
   "execution_count": 20,
   "id": "df2d533a",
   "metadata": {},
   "outputs": [
    {
     "data": {
      "text/plain": [
       "<AxesSubplot:>"
      ]
     },
     "execution_count": 20,
     "metadata": {},
     "output_type": "execute_result"
    },
    {
     "data": {
      "image/png": "[encoded data removed]",
      "text/plain": [
       "<Figure size 1296x360 with 4 Axes>"
      ]
     },
     "metadata": {
      "needs_background": "light"
     },
     "output_type": "display_data"
    }
   ],
   "source": [
    "fig = plt.figure(figsize = (18,5))\n",
    "\n",
    "fig.add_subplot(1,3,1)\n",
    "sns.heatmap(document['train'][0]['input'])\n",
    "\n",
    "fig.add_subplot(1,3,2)\n",
    "sns.heatmap(document['train'][1]['input'])\n",
    "\n"
   ]
  },
  {
   "cell_type": "code",
   "execution_count": 21,
   "id": "77fcb4b2",
   "metadata": {},
   "outputs": [
    {
     "data": {
      "text/plain": [
       "<AxesSubplot:>"
      ]
     },
     "execution_count": 21,
     "metadata": {},
     "output_type": "execute_result"
    },
    {
     "data": {
      "image/png": "[encoded data removed]",
      "text/plain": [
       "<Figure size 1296x360 with 4 Axes>"
      ]
     },
     "metadata": {
      "needs_background": "light"
     },
     "output_type": "display_data"
    }
   ],
   "source": [
    "fig = plt.figure(figsize = (18,5))\n",
    "\n",
    "fig.add_subplot(1,3,1)\n",
    "sns.heatmap(document['train'][0]['output'])\n",
    "\n",
    "fig.add_subplot(1,3,2)\n",
    "sns.heatmap(document['train'][1]['output'])\n",
    "\n"
   ]
  },
  {
   "cell_type": "code",
   "execution_count": 22,
   "id": "f0552418",
   "metadata": {},
   "outputs": [
    {
     "data": {
      "text/plain": [
       "<AxesSubplot:>"
      ]
     },
     "execution_count": 22,
     "metadata": {},
     "output_type": "execute_result"
    },
    {
     "data": {
      "image/png": "[encoded data removed]",
      "text/plain": [
       "<Figure size 1296x360 with 4 Axes>"
      ]
     },
     "metadata": {
      "needs_background": "light"
     },
     "output_type": "display_data"
    }
   ],
   "source": [
    "fig = plt.figure(figsize = (18,5))\n",
    "\n",
    "fig.add_subplot(1,3,1)\n",
    "sns.heatmap(document['test'][0]['input'])\n",
    "\n",
    "fig.add_subplot(1,3,2)\n",
    "sns.heatmap(document['test'][0]['output'])"
   ]
  },
  {
   "cell_type": "code",
   "execution_count": null,
   "id": "bdcde5ff",
   "metadata": {},
   "outputs": [],
   "source": []
  }
 ],
 "metadata": {
  "kernelspec": {
   "display_name": "Python 3",
   "language": "python",
   "name": "python3"
  },
  "language_info": {
   "codemirror_mode": {
    "name": "ipython",
    "version": 3
   },
   "file_extension": ".py",
   "mimetype": "text/x-python",
   "name": "python",
   "nbconvert_exporter": "python",
   "pygments_lexer": "ipython3",
   "version": "3.8.8"
  }
 },
 "nbformat": 4,
 "nbformat_minor": 5
}
