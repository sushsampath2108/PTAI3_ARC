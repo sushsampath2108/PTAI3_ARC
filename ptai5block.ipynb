{
 "cells": [
  {
   "cell_type": "code",
   "execution_count": 1,
   "id": "2fabeb3b",
   "metadata": {},
   "outputs": [],
   "source": [
    "import os\n",
    "import matplotlib.pyplot as plt\n",
    "import seaborn as sns\n",
    "import numpy as np\n",
    "import json"
   ]
  },
  {
   "cell_type": "code",
   "execution_count": 2,
   "id": "e329f737",
   "metadata": {},
   "outputs": [],
   "source": [
    "f= 'data/training/681b3aeb.json'"
   ]
  },
  {
   "cell_type": "code",
   "execution_count": 3,
   "id": "b9dcfedc",
   "metadata": {},
   "outputs": [],
   "source": [
    "with open(f, 'r') as file:\n",
    "    document =  json.loads(file.read())"
   ]
  },
  {
   "cell_type": "code",
   "execution_count": 4,
   "id": "75fcf72c",
   "metadata": {},
   "outputs": [],
   "source": [
    "X=np.array(document['train'][0]['input'])\n",
    "Y=np.array(document['train'][0]['output'])\n",
    "\n",
    "X1=np.array(document['train'][1]['input'])\n",
    "Y1=np.array(document['train'][1]['output'])\n",
    "\n",
    "X2=np.array(document['train'][2]['input'])\n",
    "Y2=np.array(document['train'][2]['output'])"
   ]
  },
  {
   "cell_type": "code",
   "execution_count": 5,
   "id": "4b32d30a",
   "metadata": {},
   "outputs": [
    {
     "data": {
      "text/plain": [
       "<AxesSubplot:>"
      ]
     },
     "execution_count": 5,
     "metadata": {},
     "output_type": "execute_result"
    },
    {
     "data": {
      "image/png": "[encoded data removed]",
      "text/plain": [
       "<Figure size 1296x360 with 4 Axes>"
      ]
     },
     "metadata": {
      "needs_background": "light"
     },
     "output_type": "display_data"
    }
   ],
   "source": [
    "fig = plt.figure(figsize = (18,5))\n",
    "\n",
    "fig.add_subplot(1,2,1)\n",
    "sns.heatmap(X)\n",
    "fig.add_subplot(1,2,2)\n",
    "sns.heatmap(Y)"
   ]
  },
  {
   "cell_type": "code",
   "execution_count": 6,
   "id": "19da489a",
   "metadata": {},
   "outputs": [
    {
     "data": {
      "text/plain": [
       "array([[0, 0, 0, 0, 0, 0, 0, 0, 0, 0],\n",
       "       [0, 0, 0, 0, 0, 0, 0, 0, 0, 0],\n",
       "       [0, 3, 3, 0, 0, 0, 0, 0, 0, 0],\n",
       "       [0, 3, 0, 0, 0, 0, 0, 0, 0, 0],\n",
       "       [0, 3, 0, 0, 0, 0, 0, 0, 0, 0],\n",
       "       [0, 0, 0, 0, 0, 0, 0, 0, 0, 0],\n",
       "       [0, 0, 0, 0, 0, 0, 0, 0, 0, 0],\n",
       "       [0, 0, 0, 0, 0, 0, 0, 0, 0, 7],\n",
       "       [0, 0, 0, 0, 0, 0, 0, 0, 7, 7],\n",
       "       [0, 0, 0, 0, 0, 0, 0, 0, 7, 7]])"
      ]
     },
     "execution_count": 6,
     "metadata": {},
     "output_type": "execute_result"
    }
   ],
   "source": [
    "X"
   ]
  },
  {
   "cell_type": "code",
   "execution_count": 7,
   "id": "ba495ace",
   "metadata": {},
   "outputs": [
    {
     "data": {
      "text/plain": [
       "array([[3, 3, 7],\n",
       "       [3, 7, 7],\n",
       "       [3, 7, 7]])"
      ]
     },
     "execution_count": 7,
     "metadata": {},
     "output_type": "execute_result"
    }
   ],
   "source": [
    "Y"
   ]
  },
  {
   "cell_type": "code",
   "execution_count": 12,
   "id": "bad0fb16",
   "metadata": {},
   "outputs": [
    {
     "data": {
      "text/plain": [
       "array([[0, 3, 3, 0, 0, 0, 0, 0, 0, 0],\n",
       "       [0, 3, 0, 0, 0, 0, 0, 0, 0, 0],\n",
       "       [0, 3, 0, 0, 0, 0, 0, 0, 0, 0],\n",
       "       [0, 0, 0, 0, 0, 0, 0, 0, 0, 7],\n",
       "       [0, 0, 0, 0, 0, 0, 0, 0, 7, 7],\n",
       "       [0, 0, 0, 0, 0, 0, 0, 0, 7, 7]])"
      ]
     },
     "execution_count": 12,
     "metadata": {},
     "output_type": "execute_result"
    }
   ],
   "source": [
    "bar = np.array(X)\n",
    "mask = X.sum(axis=1)!=0\n",
    "B=X[mask]\n",
    "B"
   ]
  },
  {
   "cell_type": "code",
   "execution_count": 13,
   "id": "ac10d54f",
   "metadata": {},
   "outputs": [
    {
     "data": {
      "text/plain": [
       "array([[0, 0, 0, 0, 0, 0],\n",
       "       [3, 3, 3, 0, 0, 0],\n",
       "       [3, 0, 0, 0, 0, 0],\n",
       "       [0, 0, 0, 0, 0, 0],\n",
       "       [0, 0, 0, 0, 0, 0],\n",
       "       [0, 0, 0, 0, 0, 0],\n",
       "       [0, 0, 0, 0, 0, 0],\n",
       "       [0, 0, 0, 0, 0, 0],\n",
       "       [0, 0, 0, 0, 7, 7],\n",
       "       [0, 0, 0, 7, 7, 7]])"
      ]
     },
     "execution_count": 13,
     "metadata": {},
     "output_type": "execute_result"
    }
   ],
   "source": [
    "B=B.T\n"
   ]
  },
  {
   "cell_type": "code",
   "execution_count": 14,
   "id": "12283467",
   "metadata": {},
   "outputs": [
    {
     "data": {
      "text/plain": [
       "array([[3, 3, 3, 0, 0, 0],\n",
       "       [3, 0, 0, 0, 0, 0],\n",
       "       [0, 0, 0, 0, 7, 7],\n",
       "       [0, 0, 0, 7, 7, 7]])"
      ]
     },
     "execution_count": 14,
     "metadata": {},
     "output_type": "execute_result"
    }
   ],
   "source": [
    "mask = B.sum(axis=1)!=0\n",
    "B=B[mask]\n",
    "B"
   ]
  },
  {
   "cell_type": "code",
   "execution_count": 15,
   "id": "c99c3d2a",
   "metadata": {},
   "outputs": [],
   "source": [
    "B=B.T"
   ]
  },
  {
   "cell_type": "code",
   "execution_count": 16,
   "id": "75454b85",
   "metadata": {},
   "outputs": [
    {
     "data": {
      "text/plain": [
       "array([[3, 3, 0, 0],\n",
       "       [3, 0, 0, 0],\n",
       "       [3, 0, 0, 0],\n",
       "       [0, 0, 0, 7],\n",
       "       [0, 0, 7, 7],\n",
       "       [0, 0, 7, 7]])"
      ]
     },
     "execution_count": 16,
     "metadata": {},
     "output_type": "execute_result"
    }
   ],
   "source": [
    "B"
   ]
  },
  {
   "cell_type": "code",
   "execution_count": 201,
   "id": "604cee00",
   "metadata": {},
   "outputs": [
    {
     "name": "stdout",
     "output_type": "stream",
     "text": [
      "input\n",
      " [[0 0 0 0 0 0 0 0 0 0]\n",
      " [0 0 0 0 0 0 0 0 0 0]\n",
      " [0 0 0 0 2 0 0 0 0 0]\n",
      " [0 0 0 2 2 0 0 0 0 0]\n",
      " [0 0 0 0 0 0 0 0 0 0]\n",
      " [0 0 0 0 0 0 0 0 0 0]\n",
      " [0 0 0 0 0 0 0 8 8 0]\n",
      " [0 0 0 0 0 0 0 8 0 0]\n",
      " [0 0 0 0 0 0 0 8 8 8]\n",
      " [0 0 0 0 0 0 0 0 0 0]]\n",
      "After removing zeroes\n",
      " [[0 2 0 0 0]\n",
      " [2 2 0 0 0]\n",
      " [0 0 8 8 0]\n",
      " [0 0 8 0 0]\n",
      " [0 0 8 8 8]]\n",
      "max: 3\n",
      "value0 occurence:  3\n",
      "value1 occurence:  6\n",
      "array of value 1:\n",
      " [[0. 2.]\n",
      " [2. 2.]]\n",
      "array of value 2:\n",
      " [[8. 8. 0.]\n",
      " [8. 0. 0.]\n",
      " [8. 8. 8.]]\n"
     ]
    }
   ],
   "source": [
    "X=np.array(document['test'][0]['input'])\n",
    "A=X\n",
    "x,y=A.shape\n",
    "\n",
    "print(\"input\\n\",A)\n",
    "\n",
    "indices = A.sum(axis=1)!=0\n",
    "B=A[indices]\n",
    "B=B.T\n",
    "\n",
    "indices = B.sum(axis=1)!=0\n",
    "B=B[indices]\n",
    "A=B.T\n",
    "\n",
    "\n",
    "values=[]\n",
    "size=[]\n",
    "\n",
    "print(\"After removing zeroes\\n\",A)\n",
    "x,y=A.shape\n",
    "\n",
    "for i in range(x):\n",
    "    \n",
    "    if (np.max(A[i]) not in values):\n",
    "        values.append(np.max(A[i]))\n",
    "                      \n",
    "    index=np.where(A[i]!=0) \n",
    "    size.append(np.size(index))\n",
    "        \n",
    "\n",
    "    \n",
    "A=A.T\n",
    "\n",
    "for i in range(y):\n",
    "    index=np.where(A[i]!=0) \n",
    "    size.append(np.size(index))\n",
    "\n",
    "A=A.T\n",
    "\n",
    "                     \n",
    "max_size=np.max(size)\n",
    "print(\"max:\",max_size)\n",
    "print(\"value0 occurence: \",np.count_nonzero(A == values[0]))\n",
    "print(\"value1 occurence: \",np.count_nonzero(A == values[1]))      \n",
    "   \n",
    "x,y=A.shape\n",
    "temp=np.zeros((x,y))\n",
    "temp1=np.zeros((x,y))\n",
    "\n",
    "for i in range(x):\n",
    "    for j in range(y): \n",
    "        if(np.max(A[i])==values[0]):\n",
    "            temp[i][j]=A[i][j] \n",
    "            \n",
    "indices = temp.sum(axis=1)!=0\n",
    "temp=temp[indices]\n",
    "temp=temp.T\n",
    "indices = temp.sum(axis=1)!=0\n",
    "temp=temp[indices]\n",
    "temp=temp.T\n",
    "\n",
    "print(\"array of value 1:\\n\", temp)\n",
    "\n",
    "for i in range(x):\n",
    "    for j in range(y): \n",
    "        if(np.max(A[i])==values[1]):\n",
    "            temp1[i][j]=A[i][j] \n",
    "\n",
    "indices = temp1.sum(axis=1)!=0\n",
    "temp1=temp1[indices]\n",
    "temp1=temp1.T\n",
    "indices = temp1.sum(axis=1)!=0\n",
    "temp1=temp1[indices]\n",
    "temp1=temp1.T\n",
    "\n",
    "print(\"array of value 2:\\n\", temp1)\n",
    " "
   ]
  },
  {
   "cell_type": "code",
   "execution_count": 205,
   "id": "011d7a9b",
   "metadata": {},
   "outputs": [
    {
     "name": "stdout",
     "output_type": "stream",
     "text": [
      "[[8. 8. 2.]\n",
      " [8. 2. 2.]\n",
      " [8. 8. 8.]]\n"
     ]
    }
   ],
   "source": [
    "if np.count_nonzero(temp1)>=np.count_nonzero(temp):\n",
    "    temp2=temp1\n",
    "else:\n",
    "    temp2=temp\n",
    "    \n",
    "ty=None\n",
    "x,y=temp2.shape\n",
    "\n",
    "if(temp2.shape!=(max_size,max_size)):\n",
    "    \n",
    "    if x!=max_size:\n",
    "        ex=np.zeros((max_size-x,max_size))\n",
    "        print(ex)\n",
    "        if (np.count_nonzero(temp2[0] == values[1])==3):\n",
    "            ty=np.concatenate((temp2,ex),axis=0)\n",
    "        else:\n",
    "            ty=np.concatenate((ex,temp2),axis=0)\n",
    "            \n",
    "    if y!=max_size:\n",
    "        temp2=temp2.T\n",
    "        ex=np.zeros((max_size-y,max_size))\n",
    "        print(ex)\n",
    "        if (np.count_nonzero(temp2[0] == values[1])==3):\n",
    "            ty=np.concatenate((temp2,ex),axis=0)\n",
    "        else:\n",
    "            ty=np.concatenate((ex,temp2),axis=0)\n",
    "        ty=ty.T\n",
    "else:\n",
    "    ty=temp2   \n",
    "    \n",
    "x,y=ty.shape\n",
    "for i in range(x):\n",
    "    for j in range(y):\n",
    "        if(ty[i][j]==0):\n",
    "            ty[i][j]=values[0]    \n",
    "            \n",
    "print(ty)\n",
    "        "
   ]
  },
  {
   "cell_type": "code",
   "execution_count": 206,
   "id": "47e347de",
   "metadata": {},
   "outputs": [
    {
     "data": {
      "text/plain": [
       "array([[ True,  True,  True],\n",
       "       [ True,  True,  True],\n",
       "       [ True,  True,  True]])"
      ]
     },
     "execution_count": 206,
     "metadata": {},
     "output_type": "execute_result"
    }
   ],
   "source": [
    "ty==Y_test"
   ]
  },
  {
   "cell_type": "code",
   "execution_count": null,
   "id": "8295e773",
   "metadata": {},
   "outputs": [],
   "source": []
  },
  {
   "cell_type": "code",
   "execution_count": null,
   "id": "d7295446",
   "metadata": {},
   "outputs": [],
   "source": []
  },
  {
   "cell_type": "code",
   "execution_count": 192,
   "id": "7990f192",
   "metadata": {},
   "outputs": [
    {
     "name": "stdout",
     "output_type": "stream",
     "text": [
      "[[0. 2.]\n",
      " [2. 2.]]\n",
      "[[8. 8. 0.]\n",
      " [8. 0. 0.]\n",
      " [8. 8. 8.]]\n"
     ]
    }
   ],
   "source": [
    "print(temp)\n",
    "print(temp1)"
   ]
  },
  {
   "cell_type": "code",
   "execution_count": 128,
   "id": "9070fa47",
   "metadata": {
    "scrolled": true
   },
   "outputs": [],
   "source": [
    "if(temp.shape==temp1.shape):\n",
    "    WE=np.concatenate((temp, temp1), axis=1)\n",
    "    \n",
    "            "
   ]
  },
  {
   "cell_type": "code",
   "execution_count": 129,
   "id": "e6c2e0f6",
   "metadata": {},
   "outputs": [
    {
     "data": {
      "text/plain": [
       "array([[0., 3., 0., 1., 1., 1.],\n",
       "       [3., 3., 3., 1., 0., 1.]])"
      ]
     },
     "execution_count": 129,
     "metadata": {},
     "output_type": "execute_result"
    }
   ],
   "source": [
    "WE"
   ]
  },
  {
   "cell_type": "code",
   "execution_count": null,
   "id": "172e376e",
   "metadata": {},
   "outputs": [],
   "source": [
    "\n",
    "\n",
    "for i in range(x):\n",
    "    if (np.count_nonzero(temp1[i] == values[1])==3):\n",
    "        continue\n",
    "    else\n",
    "        for j in range(y):\n",
    "            if temp1[i][j]==0:\n",
    "                temp1[i][j]= values[0]\n",
    "\n",
    "                "
   ]
  },
  {
   "cell_type": "code",
   "execution_count": 193,
   "id": "4e9894f6",
   "metadata": {},
   "outputs": [
    {
     "name": "stdout",
     "output_type": "stream",
     "text": [
      "3 3\n",
      "3\n"
     ]
    }
   ],
   "source": [
    "\n"
   ]
  },
  {
   "cell_type": "code",
   "execution_count": 194,
   "id": "52d3d987",
   "metadata": {},
   "outputs": [
    {
     "data": {
      "text/plain": [
       "array([[8., 8., 0.],\n",
       "       [8., 0., 0.],\n",
       "       [8., 8., 8.]])"
      ]
     },
     "execution_count": 194,
     "metadata": {},
     "output_type": "execute_result"
    }
   ],
   "source": [
    "ty"
   ]
  },
  {
   "cell_type": "code",
   "execution_count": 195,
   "id": "5e1db16f",
   "metadata": {},
   "outputs": [],
   "source": [
    "d,f=ty.shape"
   ]
  },
  {
   "cell_type": "code",
   "execution_count": 196,
   "id": "49c9aff3",
   "metadata": {},
   "outputs": [],
   "source": [
    "for i in range(d):\n",
    "    for j in range(f):\n",
    "        if(ty[i][j]==0):\n",
    "            ty[i][j]=values[0]"
   ]
  },
  {
   "cell_type": "code",
   "execution_count": 197,
   "id": "a6898cc4",
   "metadata": {},
   "outputs": [
    {
     "data": {
      "text/plain": [
       "array([[8., 8., 2.],\n",
       "       [8., 2., 2.],\n",
       "       [8., 8., 8.]])"
      ]
     },
     "execution_count": 197,
     "metadata": {},
     "output_type": "execute_result"
    }
   ],
   "source": [
    "ty"
   ]
  },
  {
   "cell_type": "code",
   "execution_count": null,
   "id": "c54e1db1",
   "metadata": {},
   "outputs": [],
   "source": []
  },
  {
   "cell_type": "code",
   "execution_count": 121,
   "id": "bc744f9e",
   "metadata": {},
   "outputs": [],
   "source": [
    "if(temp.shape>temp1.shape):\n",
    "    WE=temp\n",
    "else:\n",
    "    WE=temp1"
   ]
  },
  {
   "cell_type": "code",
   "execution_count": 122,
   "id": "b71ac50b",
   "metadata": {},
   "outputs": [
    {
     "data": {
      "text/plain": [
       "array([[6., 6., 6.],\n",
       "       [0., 6., 6.],\n",
       "       [0., 0., 6.]])"
      ]
     },
     "execution_count": 122,
     "metadata": {},
     "output_type": "execute_result"
    }
   ],
   "source": [
    "WE"
   ]
  },
  {
   "cell_type": "code",
   "execution_count": 123,
   "id": "2442f240",
   "metadata": {},
   "outputs": [],
   "source": [
    "d,f=WE.shape\n",
    "\n"
   ]
  },
  {
   "cell_type": "code",
   "execution_count": 124,
   "id": "c31acd80",
   "metadata": {},
   "outputs": [],
   "source": [
    "for i in range(d):\n",
    "    for j in range(f-1):\n",
    "        if(WE[i][j]==0):\n",
    "            WE[i][j]=values[0]\n"
   ]
  },
  {
   "cell_type": "code",
   "execution_count": 125,
   "id": "0620514c",
   "metadata": {},
   "outputs": [
    {
     "data": {
      "text/plain": [
       "array([[6., 6., 6.],\n",
       "       [4., 6., 6.],\n",
       "       [4., 4., 6.]])"
      ]
     },
     "execution_count": 125,
     "metadata": {},
     "output_type": "execute_result"
    }
   ],
   "source": [
    "WE"
   ]
  },
  {
   "cell_type": "code",
   "execution_count": null,
   "id": "e45d545e",
   "metadata": {},
   "outputs": [],
   "source": []
  },
  {
   "cell_type": "code",
   "execution_count": null,
   "id": "0e1cb0ad",
   "metadata": {},
   "outputs": [],
   "source": []
  },
  {
   "cell_type": "code",
   "execution_count": 90,
   "id": "1e18897c",
   "metadata": {},
   "outputs": [],
   "source": [
    "if(np.count_nonzero(WE==0)>0):            \n",
    "    indices = WE.sum(axis=1)!=0\n",
    "    temp2=WE[indices]\n",
    "    temp2=temp2.T\n",
    "    indices = temp2.sum(axis=1)!=0\n",
    "    WE=temp2[indices]"
   ]
  },
  {
   "cell_type": "code",
   "execution_count": 91,
   "id": "75bd30f4",
   "metadata": {},
   "outputs": [
    {
     "data": {
      "text/plain": [
       "array([[3., 3., 3.],\n",
       "       [3., 7., 7.],\n",
       "       [7., 7., 7.]])"
      ]
     },
     "execution_count": 91,
     "metadata": {},
     "output_type": "execute_result"
    }
   ],
   "source": [
    "WE"
   ]
  },
  {
   "cell_type": "code",
   "execution_count": null,
   "id": "50add838",
   "metadata": {},
   "outputs": [],
   "source": [
    "Y_te"
   ]
  },
  {
   "cell_type": "code",
   "execution_count": 89,
   "id": "c0d728a5",
   "metadata": {},
   "outputs": [
    {
     "data": {
      "text/plain": [
       "3"
      ]
     },
     "execution_count": 89,
     "metadata": {},
     "output_type": "execute_result"
    }
   ],
   "source": [
    "np.count_nonzero(WE==0)"
   ]
  },
  {
   "cell_type": "code",
   "execution_count": 57,
   "id": "76ed8a15",
   "metadata": {},
   "outputs": [
    {
     "data": {
      "text/plain": [
       "array([[0., 0., 0., 7.],\n",
       "       [0., 0., 7., 7.],\n",
       "       [0., 0., 7., 7.]])"
      ]
     },
     "execution_count": 57,
     "metadata": {},
     "output_type": "execute_result"
    }
   ],
   "source": [
    "indices = temp.sum(axis=1)!=0\n",
    "Ba=temp[indices]\n",
    "Ba"
   ]
  },
  {
   "cell_type": "code",
   "execution_count": 60,
   "id": "922b6a0d",
   "metadata": {},
   "outputs": [
    {
     "name": "stdout",
     "output_type": "stream",
     "text": [
      "[[0. 7.]\n",
      " [7. 7.]\n",
      " [7. 7.]]\n"
     ]
    }
   ],
   "source": [
    "temp=Ba\n",
    "e,r=temp.shape\n",
    "for i in range(e):\n",
    "    for j in range(r-1):\n",
    "        if (temp[i][j]==0):\n",
    "            if(temp[i][j+1]!=0 and ):\n",
    "                temp[i][j]==values[0]\n",
    "                continue\n",
    "temp=temp.T\n",
    "indices = temp.sum(axis=1)!=0\n",
    "Ba=temp[indices]\n",
    "temp=Ba.T\n",
    "print(temp)"
   ]
  },
  {
   "cell_type": "code",
   "execution_count": 61,
   "id": "d669f5ba",
   "metadata": {},
   "outputs": [
    {
     "data": {
      "text/plain": [
       "array([[3, 3, 7],\n",
       "       [3, 7, 7],\n",
       "       [3, 7, 7]])"
      ]
     },
     "execution_count": 61,
     "metadata": {},
     "output_type": "execute_result"
    }
   ],
   "source": [
    "Y"
   ]
  },
  {
   "cell_type": "code",
   "execution_count": 62,
   "id": "48f9b18f",
   "metadata": {},
   "outputs": [
    {
     "data": {
      "text/plain": [
       "array([[0, 0, 0, 0, 0, 0, 0, 0, 4, 0],\n",
       "       [0, 0, 0, 0, 0, 0, 0, 0, 4, 4],\n",
       "       [0, 0, 0, 6, 6, 6, 0, 0, 0, 0],\n",
       "       [0, 0, 0, 0, 6, 6, 0, 0, 0, 0],\n",
       "       [0, 0, 0, 0, 0, 6, 0, 0, 0, 0],\n",
       "       [0, 0, 0, 0, 0, 0, 0, 0, 0, 0],\n",
       "       [0, 0, 0, 0, 0, 0, 0, 0, 0, 0],\n",
       "       [0, 0, 0, 0, 0, 0, 0, 0, 0, 0],\n",
       "       [0, 0, 0, 0, 0, 0, 0, 0, 0, 0],\n",
       "       [0, 0, 0, 0, 0, 0, 0, 0, 0, 0]])"
      ]
     },
     "execution_count": 62,
     "metadata": {},
     "output_type": "execute_result"
    }
   ],
   "source": [
    "X1"
   ]
  },
  {
   "cell_type": "code",
   "execution_count": 63,
   "id": "a1bb9b3b",
   "metadata": {},
   "outputs": [
    {
     "data": {
      "text/plain": [
       "array([[6, 6, 6],\n",
       "       [4, 6, 6],\n",
       "       [4, 4, 6]])"
      ]
     },
     "execution_count": 63,
     "metadata": {},
     "output_type": "execute_result"
    }
   ],
   "source": [
    "Y1"
   ]
  },
  {
   "cell_type": "code",
   "execution_count": 64,
   "id": "a3001bef",
   "metadata": {},
   "outputs": [
    {
     "data": {
      "text/plain": [
       "array([[0, 0, 0, 0, 0, 0, 0, 0, 0, 0],\n",
       "       [0, 0, 0, 0, 0, 0, 0, 0, 0, 0],\n",
       "       [0, 0, 0, 0, 0, 0, 0, 0, 0, 0],\n",
       "       [0, 0, 0, 0, 0, 0, 0, 0, 0, 0],\n",
       "       [0, 0, 0, 0, 3, 0, 0, 0, 0, 0],\n",
       "       [0, 0, 0, 3, 3, 3, 0, 0, 0, 0],\n",
       "       [0, 0, 0, 0, 0, 0, 0, 0, 0, 0],\n",
       "       [0, 0, 0, 0, 0, 0, 0, 0, 0, 0],\n",
       "       [0, 1, 1, 1, 0, 0, 0, 0, 0, 0],\n",
       "       [0, 1, 0, 1, 0, 0, 0, 0, 0, 0]])"
      ]
     },
     "execution_count": 64,
     "metadata": {},
     "output_type": "execute_result"
    }
   ],
   "source": [
    "X2"
   ]
  },
  {
   "cell_type": "code",
   "execution_count": 65,
   "id": "f41d678b",
   "metadata": {},
   "outputs": [
    {
     "data": {
      "text/plain": [
       "array([[1, 1, 1],\n",
       "       [1, 3, 1],\n",
       "       [3, 3, 3]])"
      ]
     },
     "execution_count": 65,
     "metadata": {},
     "output_type": "execute_result"
    }
   ],
   "source": [
    "Y2"
   ]
  },
  {
   "cell_type": "code",
   "execution_count": 190,
   "id": "3517f033",
   "metadata": {},
   "outputs": [],
   "source": [
    "X_test=np.array(document['test'][0]['input'])\n",
    "Y_test=np.array(document['test'][0]['output'])"
   ]
  },
  {
   "cell_type": "code",
   "execution_count": 191,
   "id": "9ae0ee95",
   "metadata": {},
   "outputs": [
    {
     "data": {
      "text/plain": [
       "array([[8, 8, 2],\n",
       "       [8, 2, 2],\n",
       "       [8, 8, 8]])"
      ]
     },
     "execution_count": 191,
     "metadata": {},
     "output_type": "execute_result"
    }
   ],
   "source": [
    "Y_test"
   ]
  },
  {
   "cell_type": "code",
   "execution_count": null,
   "id": "51c07ee2",
   "metadata": {},
   "outputs": [],
   "source": []
  }
 ],
 "metadata": {
  "kernelspec": {
   "display_name": "Python 3",
   "language": "python",
   "name": "python3"
  },
  "language_info": {
   "codemirror_mode": {
    "name": "ipython",
    "version": 3
   },
   "file_extension": ".py",
   "mimetype": "text/x-python",
   "name": "python",
   "nbconvert_exporter": "python",
   "pygments_lexer": "ipython3",
   "version": "3.8.8"
  }
 },
 "nbformat": 4,
 "nbformat_minor": 5
}
