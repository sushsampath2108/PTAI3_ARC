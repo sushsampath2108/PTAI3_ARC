{
 "cells": [
  {
   "cell_type": "code",
   "execution_count": 2,
   "id": "86bbba7e",
   "metadata": {},
   "outputs": [],
   "source": [
    "import os\n",
    "import matplotlib.pyplot as plt\n",
    "import seaborn as sns\n",
    "import numpy as np\n",
    "import json"
   ]
  },
  {
   "cell_type": "code",
   "execution_count": 3,
   "id": "da64ad6e",
   "metadata": {},
   "outputs": [],
   "source": [
    "f= 'data/training/d0f5fe59.json'"
   ]
  },
  {
   "cell_type": "code",
   "execution_count": 4,
   "id": "f973cba7",
   "metadata": {},
   "outputs": [],
   "source": [
    "with open(f, 'r') as file:\n",
    "    document =  json.loads(file.read())"
   ]
  },
  {
   "cell_type": "code",
   "execution_count": 44,
   "id": "ec42cd43",
   "metadata": {},
   "outputs": [
    {
     "data": {
      "text/plain": [
       "<AxesSubplot:>"
      ]
     },
     "execution_count": 44,
     "metadata": {},
     "output_type": "execute_result"
    },
    {
     "data": {
      "image/png": "[encoded data removed]",
      "text/plain": [
       "<Figure size 1296x360 with 2 Axes>"
      ]
     },
     "metadata": {
      "needs_background": "light"
     },
     "output_type": "display_data"
    }
   ],
   "source": [
    "X=np.array(document['train'][0]['input'])\n",
    "Y=np.array(document['train'][0]['output'])\n",
    "\n",
    "X1=np.array(document['train'][1]['input'])\n",
    "Y1=np.array(document['train'][1]['output'])\n",
    "\n",
    "X2=np.array(document['train'][2]['input'])\n",
    "Y2=np.array(document['train'][2]['output'])\n",
    "\n",
    "\n",
    "\n",
    "fig = plt.figure(figsize = (18,5))\n",
    "\n",
    "fig.add_subplot(1,3,1)\n",
    "sns.heatmap(Y)"
   ]
  },
  {
   "cell_type": "code",
   "execution_count": 10,
   "id": "42bece4e",
   "metadata": {},
   "outputs": [
    {
     "data": {
      "text/plain": [
       "array([[0, 0, 0, 0, 0, 0, 0, 0, 0, 0, 0, 0],\n",
       "       [0, 0, 0, 8, 0, 0, 0, 0, 0, 0, 0, 0],\n",
       "       [0, 8, 8, 8, 0, 0, 0, 0, 0, 0, 0, 0],\n",
       "       [0, 8, 8, 0, 0, 0, 0, 8, 0, 0, 0, 0],\n",
       "       [0, 0, 0, 0, 0, 8, 8, 8, 8, 0, 0, 0],\n",
       "       [0, 0, 0, 0, 0, 8, 0, 8, 0, 0, 0, 0],\n",
       "       [0, 0, 0, 0, 0, 0, 0, 0, 0, 0, 0, 0],\n",
       "       [0, 0, 0, 0, 0, 0, 0, 0, 0, 0, 0, 0],\n",
       "       [0, 0, 0, 8, 8, 0, 0, 0, 0, 0, 0, 0],\n",
       "       [0, 0, 0, 8, 8, 0, 0, 0, 0, 0, 0, 0],\n",
       "       [0, 0, 0, 0, 0, 0, 0, 0, 0, 0, 0, 0],\n",
       "       [0, 0, 0, 0, 0, 0, 0, 0, 0, 0, 0, 0]])"
      ]
     },
     "execution_count": 10,
     "metadata": {},
     "output_type": "execute_result"
    }
   ],
   "source": [
    "X1"
   ]
  },
  {
   "cell_type": "code",
   "execution_count": 11,
   "id": "7b9249c7",
   "metadata": {},
   "outputs": [
    {
     "data": {
      "text/plain": [
       "array([[8, 0, 0],\n",
       "       [0, 8, 0],\n",
       "       [0, 0, 8]])"
      ]
     },
     "execution_count": 11,
     "metadata": {},
     "output_type": "execute_result"
    }
   ],
   "source": [
    "Y1"
   ]
  },
  {
   "cell_type": "code",
   "execution_count": 12,
   "id": "2f86d6d6",
   "metadata": {},
   "outputs": [
    {
     "data": {
      "text/plain": [
       "array([[0, 0, 0, 0, 0, 0, 0, 0, 0, 0, 0, 0],\n",
       "       [0, 0, 0, 0, 0, 0, 0, 0, 0, 0, 0, 0],\n",
       "       [0, 0, 8, 8, 0, 0, 0, 0, 0, 0, 0, 0],\n",
       "       [0, 0, 8, 8, 8, 0, 0, 0, 8, 0, 0, 0],\n",
       "       [0, 0, 0, 8, 8, 0, 0, 0, 8, 8, 0, 0],\n",
       "       [0, 0, 0, 0, 0, 0, 0, 0, 8, 0, 0, 0],\n",
       "       [0, 0, 0, 0, 0, 0, 0, 0, 0, 0, 0, 0],\n",
       "       [0, 0, 0, 0, 0, 0, 0, 0, 0, 0, 0, 0]])"
      ]
     },
     "execution_count": 12,
     "metadata": {},
     "output_type": "execute_result"
    }
   ],
   "source": [
    "X2"
   ]
  },
  {
   "cell_type": "code",
   "execution_count": 13,
   "id": "21800996",
   "metadata": {},
   "outputs": [
    {
     "data": {
      "text/plain": [
       "array([[8, 0],\n",
       "       [0, 8]])"
      ]
     },
     "execution_count": 13,
     "metadata": {},
     "output_type": "execute_result"
    }
   ],
   "source": [
    "Y2"
   ]
  },
  {
   "cell_type": "code",
   "execution_count": 46,
   "id": "16f724b4",
   "metadata": {},
   "outputs": [],
   "source": [
    "X_test=np.array(document['test'][0]['input'])\n",
    "Y_test=np.array(document['test'][0]['output'])"
   ]
  },
  {
   "cell_type": "code",
   "execution_count": 47,
   "id": "b114b893",
   "metadata": {},
   "outputs": [
    {
     "data": {
      "text/plain": [
       "array([[0, 0, 0, 0, 0, 0, 0, 0, 0, 0, 0, 0],\n",
       "       [0, 0, 0, 0, 0, 0, 0, 0, 0, 8, 0, 0],\n",
       "       [0, 0, 0, 0, 0, 8, 0, 0, 8, 8, 0, 0],\n",
       "       [0, 0, 0, 8, 8, 8, 0, 0, 8, 8, 0, 0],\n",
       "       [0, 0, 0, 0, 8, 8, 0, 0, 0, 0, 0, 0],\n",
       "       [0, 0, 0, 0, 0, 0, 0, 0, 0, 0, 0, 0],\n",
       "       [0, 0, 0, 0, 0, 0, 0, 0, 0, 0, 0, 0],\n",
       "       [0, 0, 0, 0, 0, 0, 0, 0, 0, 0, 0, 0],\n",
       "       [0, 0, 0, 0, 0, 0, 0, 0, 0, 0, 0, 0],\n",
       "       [0, 8, 8, 0, 0, 0, 0, 0, 8, 8, 0, 0],\n",
       "       [0, 0, 8, 8, 0, 0, 0, 0, 8, 8, 8, 0],\n",
       "       [0, 0, 0, 8, 0, 0, 0, 0, 0, 0, 0, 0],\n",
       "       [0, 0, 0, 0, 0, 0, 0, 0, 0, 0, 0, 0],\n",
       "       [0, 0, 0, 0, 0, 0, 8, 8, 0, 0, 0, 0],\n",
       "       [0, 0, 0, 0, 0, 0, 0, 0, 0, 0, 0, 0]])"
      ]
     },
     "execution_count": 47,
     "metadata": {},
     "output_type": "execute_result"
    }
   ],
   "source": [
    "X_test"
   ]
  },
  {
   "cell_type": "code",
   "execution_count": 48,
   "id": "c90abe57",
   "metadata": {},
   "outputs": [
    {
     "data": {
      "text/plain": [
       "array([[8, 0, 0, 0, 0],\n",
       "       [0, 8, 0, 0, 0],\n",
       "       [0, 0, 8, 0, 0],\n",
       "       [0, 0, 0, 8, 0],\n",
       "       [0, 0, 0, 0, 8]])"
      ]
     },
     "execution_count": 48,
     "metadata": {},
     "output_type": "execute_result"
    }
   ],
   "source": [
    "Y_test"
   ]
  },
  {
   "cell_type": "code",
   "execution_count": 38,
   "id": "d342cf57",
   "metadata": {},
   "outputs": [
    {
     "data": {
      "text/plain": [
       "array([[8, 0, 0, 0, 0],\n",
       "       [0, 8, 0, 0, 0],\n",
       "       [0, 0, 8, 0, 0],\n",
       "       [0, 0, 0, 8, 0],\n",
       "       [0, 0, 0, 0, 8]])"
      ]
     },
     "execution_count": 38,
     "metadata": {},
     "output_type": "execute_result"
    }
   ],
   "source": [
    "Y"
   ]
  },
  {
   "cell_type": "code",
   "execution_count": 208,
   "id": "e6e8d6ed",
   "metadata": {},
   "outputs": [],
   "source": [
    "x,y=X_test.shape"
   ]
  },
  {
   "cell_type": "code",
   "execution_count": 209,
   "id": "c83610c2",
   "metadata": {},
   "outputs": [],
   "source": [
    "A=X_test"
   ]
  },
  {
   "cell_type": "code",
   "execution_count": 210,
   "id": "b6c54bc0",
   "metadata": {},
   "outputs": [
    {
     "data": {
      "text/plain": [
       "array([[0, 0, 0, 0, 0, 0, 0, 0, 0, 0, 0, 0],\n",
       "       [0, 0, 0, 0, 0, 0, 0, 0, 0, 8, 0, 0],\n",
       "       [0, 0, 0, 0, 0, 8, 0, 0, 8, 8, 0, 0],\n",
       "       [0, 0, 0, 8, 8, 8, 0, 0, 8, 8, 0, 0],\n",
       "       [0, 0, 0, 0, 8, 8, 0, 0, 0, 0, 0, 0],\n",
       "       [0, 0, 0, 0, 0, 0, 0, 0, 0, 0, 0, 0],\n",
       "       [0, 0, 0, 0, 0, 0, 0, 0, 0, 0, 0, 0],\n",
       "       [0, 0, 0, 0, 0, 0, 0, 0, 0, 0, 0, 0],\n",
       "       [0, 0, 0, 0, 0, 0, 0, 0, 0, 0, 0, 0],\n",
       "       [0, 8, 8, 0, 0, 0, 0, 0, 8, 8, 0, 0],\n",
       "       [0, 0, 8, 8, 0, 0, 0, 0, 8, 8, 8, 0],\n",
       "       [0, 0, 0, 8, 0, 0, 0, 0, 0, 0, 0, 0],\n",
       "       [0, 0, 0, 0, 0, 0, 0, 0, 0, 0, 0, 0],\n",
       "       [0, 0, 0, 0, 0, 0, 8, 8, 0, 0, 0, 0],\n",
       "       [0, 0, 0, 0, 0, 0, 0, 0, 0, 0, 0, 0]])"
      ]
     },
     "execution_count": 210,
     "metadata": {},
     "output_type": "execute_result"
    }
   ],
   "source": [
    "A"
   ]
  },
  {
   "cell_type": "code",
   "execution_count": 211,
   "id": "d109f65e",
   "metadata": {},
   "outputs": [
    {
     "name": "stdout",
     "output_type": "stream",
     "text": [
      "Row:  0\n",
      "Row:  1\n",
      "indices: [9]\n",
      "lenght of indices:  1\n",
      "index:  [9]\n",
      "incrementing pattern1:  1\n",
      "Row:  2\n",
      "indices: [5 8 9]\n",
      "lenght of indices:  3\n",
      "index:  [5, 8, 9]\n",
      "h is : -3\n",
      "v is : 5\n",
      "u is:  9\n",
      "flag:  0\n",
      "incrementing pattern3:  2\n",
      "h is : 5\n",
      "v is : 8\n",
      "u is:  9\n",
      "flag:  1\n",
      "h is : 8\n",
      "v is : 9\n",
      "Row:  3\n",
      "indices: [3 4 5 8 9]\n",
      "lenght of indices:  5\n",
      "index:  [3, 4, 5, 8, 9]\n",
      "h is : -3\n",
      "v is : 3\n",
      "u is:  5\n",
      "u is:  8\n",
      "u is:  9\n",
      "flag:  1\n",
      "h is : 3\n",
      "v is : 4\n",
      "h is : 4\n",
      "v is : 5\n",
      "h is : 5\n",
      "v is : 8\n",
      "u is:  5\n",
      "u is:  8\n",
      "u is:  9\n",
      "flag:  2\n",
      "h is : 8\n",
      "v is : 9\n",
      "Row:  4\n",
      "indices: [4 5]\n",
      "lenght of indices:  2\n",
      "index:  [4, 5]\n",
      "h is : -3\n",
      "v is : 4\n",
      "u is:  3\n",
      "u is:  4\n",
      "u is:  5\n",
      "u is:  8\n",
      "u is:  9\n",
      "flag:  3\n",
      "h is : 4\n",
      "v is : 5\n",
      "Row:  5\n",
      "Row:  6\n",
      "Row:  7\n",
      "Row:  8\n",
      "Row:  9\n",
      "indices: [1 2 8 9]\n",
      "lenght of indices:  4\n",
      "index:  [1, 2, 8, 9]\n",
      "incrementing pattern1:  3\n",
      "incrementing pattern2:  4\n",
      "Row:  10\n",
      "indices: [ 2  3  8  9 10]\n",
      "lenght of indices:  5\n",
      "index:  [2, 3, 8, 9, 10]\n",
      "h is : -3\n",
      "v is : 2\n",
      "u is:  1\n",
      "u is:  2\n",
      "u is:  8\n",
      "u is:  9\n",
      "flag:  2\n",
      "h is : 2\n",
      "v is : 3\n",
      "h is : 3\n",
      "v is : 8\n",
      "u is:  1\n",
      "u is:  2\n",
      "u is:  8\n",
      "u is:  9\n",
      "flag:  2\n",
      "h is : 8\n",
      "v is : 9\n",
      "h is : 9\n",
      "v is : 10\n",
      "Row:  11\n",
      "indices: [3]\n",
      "lenght of indices:  1\n",
      "index:  [3]\n",
      "h is : -3\n",
      "v is : 3\n",
      "u is:  2\n",
      "u is:  3\n",
      "u is:  8\n",
      "u is:  9\n",
      "u is:  10\n",
      "flag:  2\n",
      "Row:  12\n",
      "Row:  13\n",
      "indices: [6 7]\n",
      "lenght of indices:  2\n",
      "index:  [6, 7]\n",
      "incrementing pattern1:  5\n",
      "Row:  14\n",
      "5\n",
      "[[8. 0. 0. 0. 0.]\n",
      " [0. 8. 0. 0. 0.]\n",
      " [0. 0. 8. 0. 0.]\n",
      " [0. 0. 0. 8. 0.]\n",
      " [0. 0. 0. 0. 8.]]\n"
     ]
    },
    {
     "data": {
      "text/plain": [
       "<AxesSubplot:>"
      ]
     },
     "execution_count": 211,
     "metadata": {},
     "output_type": "execute_result"
    },
    {
     "data": {
      "image/png": "[encoded data removed]",
      "text/plain": [
       "<Figure size 1296x360 with 2 Axes>"
      ]
     },
     "metadata": {
      "needs_background": "light"
     },
     "output_type": "display_data"
    }
   ],
   "source": [
    "value=0\n",
    "patterns=0\n",
    "zero_row_count=0\n",
    "zero_flag=0\n",
    "number_of_zeroes=0\n",
    "value=np.max(A)\n",
    "index={}\n",
    "\n",
    "for i in range(x):\n",
    "    print(\"Row: \",i)\n",
    "       \n",
    "    if(np.max(A[i])==0):\n",
    "        zero_row_count=zero_row_count+1\n",
    "        \n",
    "    else:\n",
    "        \n",
    "        indices=np.where(A[i]!=0)\n",
    "        print(\"indices:\", indices[0])\n",
    "        len=np.size(indices)\n",
    "        print(\"lenght of indices: \",len)\n",
    "        p=0\n",
    "        index[i]=list()\n",
    "        \n",
    "        while(p<len):\n",
    "            index[i].append(indices[0][p])\n",
    "            p=p+1\n",
    "        print(\"index: \",index[i])   \n",
    "          \n",
    "        if(i-1 not in index.keys()):\n",
    "            \n",
    "            patterns=patterns+1\n",
    "            print(\"incrementing pattern1: \",patterns)\n",
    "            p=0\n",
    "            while(p<len-1):\n",
    "                if(indices[0][p+1]-indices[0][p]>2):\n",
    "                    patterns=patterns+1\n",
    "                    print(\"incrementing pattern2: \",patterns)\n",
    "                p=p+1\n",
    "                \n",
    "        else:\n",
    "            h=-3\n",
    "            for v in indices[0]:\n",
    "                print(\"h is :\",h)\n",
    "                print(\"v is :\",v)\n",
    "                if(h!=-3):\n",
    "                    if(h==v-1 or h==v-2):\n",
    "                        h=v\n",
    "                        continue \n",
    "                else:\n",
    "                    h=v\n",
    "                flag=0    \n",
    "                for u in index[i-1]:\n",
    "                    print(\"u is: \",u )          \n",
    "                    if(v==u or v==u-1 or v==u+1 or v==u-2 or v==u+2):\n",
    "                        flag=flag+1\n",
    "                print(\"flag: \",flag)\n",
    "                if(flag==0):\n",
    "                    patterns=patterns+1\n",
    "                    print(\"incrementing pattern3: \",patterns)\n",
    "                \n",
    "                h=v\n",
    "                    \n",
    "        \n",
    "print(patterns)\n",
    "    \n",
    "output=np.zeros((patterns,patterns))\n",
    "for i in range(patterns):\n",
    "    for j in range(patterns):\n",
    "        if(i==j):\n",
    "            output[i][j]=value\n",
    "print(output)  \n",
    "\n",
    "fig = plt.figure(figsize = (18,5))\n",
    "\n",
    "fig.add_subplot(1,3,1)\n",
    "sns.heatmap(output)\n",
    "                \n",
    "            \n",
    "            \n",
    "            \n",
    "                        \n",
    "        \n",
    "            \n",
    "        "
   ]
  },
  {
   "cell_type": "code",
   "execution_count": 206,
   "id": "d10b6b97",
   "metadata": {},
   "outputs": [
    {
     "data": {
      "text/plain": [
       "array([[8, 0, 0, 0, 0],\n",
       "       [0, 8, 0, 0, 0],\n",
       "       [0, 0, 8, 0, 0],\n",
       "       [0, 0, 0, 8, 0],\n",
       "       [0, 0, 0, 0, 8]])"
      ]
     },
     "execution_count": 206,
     "metadata": {},
     "output_type": "execute_result"
    }
   ],
   "source": [
    "Y_test"
   ]
  },
  {
   "cell_type": "code",
   "execution_count": null,
   "id": "44b59fa0",
   "metadata": {},
   "outputs": [],
   "source": []
  },
  {
   "cell_type": "code",
   "execution_count": null,
   "id": "d337576e",
   "metadata": {},
   "outputs": [],
   "source": []
  }
 ],
 "metadata": {
  "kernelspec": {
   "display_name": "Python 3",
   "language": "python",
   "name": "python3"
  },
  "language_info": {
   "codemirror_mode": {
    "name": "ipython",
    "version": 3
   },
   "file_extension": ".py",
   "mimetype": "text/x-python",
   "name": "python",
   "nbconvert_exporter": "python",
   "pygments_lexer": "ipython3",
   "version": "3.8.8"
  }
 },
 "nbformat": 4,
 "nbformat_minor": 5
}
